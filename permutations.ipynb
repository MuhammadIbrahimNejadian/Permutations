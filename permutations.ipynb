{
  "cells": [
    {
      "cell_type": "code",
      "source": [
        "class Permutations:\n",
        "  from itertools import permutations\n",
        "  def __init__(self, n):\n",
        "    self.n     = n\n",
        "    self.items = [str(item) for item in list(range(1,self.n+1))]\n",
        "    self.help_Lexicographic= \"\"\"\n",
        "    Lexicographic Ordering\n",
        "    https://www.quora.com/How-would-you-explain-an-algorithm-that-generates-permutations-using-lexicographic-ordering\n",
        "    Algorithm Phases:\n",
        "      Find the largest x such that p[x] < p[x+1].\n",
        "      Find the largest y such that p[x] < p[y].\n",
        "      Swap p[x] and p[y].\n",
        "      Reverse P[x+1 .. n].\n",
        "      Loop untill break statement reaches.\n",
        "      If no such x exists, the permutation is the last permutation ---> break statement\n",
        "      \"\"\"\n",
        "    self.help_bactracking=\"\"\"\n",
        "    Another way of doing the permutation of string with minimal code based on bactracking.\n",
        "    I basically create a loop and then I keep swapping two characters at a time, Inside the loop I'll have the recursion.\n",
        "    Notice,I only print when indexers reaches the length of our string.\n",
        "    \"\"\"\n",
        "\n",
        "  def get_lexicographic_ordering(self, items):\n",
        "    all_permutations=  [items[:]]\n",
        "    while True:\n",
        "      #step 1\n",
        "      largets_i = -1\n",
        "      for i in range(len(items)-1):\n",
        "          if items[i] < items[i+1]:\n",
        "              largets_i = i\n",
        "      if largets_i == -1:\n",
        "          break\n",
        "\n",
        "      #step 2\n",
        "      largest_j = 0\n",
        "      for j in range(len(items)):\n",
        "          if items[largets_i] < items[j]:\n",
        "              largest_j = j\n",
        "\n",
        "      #step 3\n",
        "      # items = swap(items, largets_i, largest_j)\n",
        "      items[largets_i], items[largest_j] = items[largest_j], items[largets_i]\n",
        "      #step 4\n",
        "      items[largets_i+1:] = items[largets_i+1:][::-1]\n",
        "      all_permutations.append(items[:])\n",
        "    return all_permutations\n",
        "\n",
        "  def get_itertools_ordering(self, items):\n",
        "    all_permutations = [list(item) for item in list(permutations(items))]\n",
        "    return all_permutations\n",
        "\n",
        "  def get_bactracking_permutations(self, items, i, length, all_permutations=[]):\n",
        "    if i==length:\n",
        "        all_permutations.append(items[:])\n",
        "    else:\n",
        "        for j in range(i,length):\n",
        "            #swap\n",
        "            items[i], items[j] = items[j], items[i]\n",
        "            self.get_bactracking_permutations(items, i+1, length, all_permutations)\n",
        "            items[i], items[j] = items[j], items[i]\n",
        "    return all_permutations\n",
        "\n",
        "  def get_simple_permutations1(self, items):\n",
        "      \"\"\"\n",
        "      Create all permutations of a string with non-repeating characters\n",
        "      \"\"\"\n",
        "      permutation_list = []\n",
        "      if len(items) == 1:\n",
        "          return [items]\n",
        "      else:\n",
        "          for char in items:\n",
        "              [permutation_list.append(char + a) for a in self.get_simple_permutations1(items.replace(char, \"\", 1))]\n",
        "      return permutation_list\n",
        "  def get_simple_permutations2(self, items):\n",
        "    if len(items) <= 1:\n",
        "      return {items}\n",
        "    all_permutations = set()\n",
        "    for i, j in enumerate(items):\n",
        "\n",
        "      endIndex = i if i == len(items) else i + 1\n",
        "      new_items = items[:i] + items[endIndex:]\n",
        "      retSet = self.get_simple_permutations2(new_items)\n",
        "      for elem in retSet:\n",
        "        all_permutations.add(j + elem)\n",
        "    return all_permutations\n",
        "\n",
        "  def get_simple_permutations3(self, items):\n",
        "    if not items:\n",
        "        yield items\n",
        "    else:\n",
        "        for i in range(len(items)):\n",
        "            rest = items[:i]+items[i+1:]\n",
        "            for x in self.get_simple_permutations3(rest):\n",
        "                yield items[i:i+1]+x"
      ],
      "metadata": {
        "id": "jvFv8s7O5raC"
      },
      "execution_count": 160,
      "outputs": []
    },
    {
      "cell_type": "code",
      "source": [
        "my_permutation = Permutations(3)"
      ],
      "metadata": {
        "id": "VpEJgNQp6rOs"
      },
      "execution_count": 161,
      "outputs": []
    },
    {
      "cell_type": "code",
      "source": [
        "print(my_permutation.help_Lexicographic)"
      ],
      "metadata": {
        "colab": {
          "base_uri": "https://localhost:8080/"
        },
        "id": "rhd2Q0PZ7gXZ",
        "outputId": "fb93d98e-f72c-4619-d847-fb70f17f8423"
      },
      "execution_count": 162,
      "outputs": [
        {
          "output_type": "stream",
          "name": "stdout",
          "text": [
            "\n",
            "    Lexicographic Ordering\n",
            "    https://www.quora.com/How-would-you-explain-an-algorithm-that-generates-permutations-using-lexicographic-ordering\n",
            "    Algorithm Phases:\n",
            "      Find the largest x such that p[x] < p[x+1].\n",
            "      Find the largest y such that p[x] < p[y].\n",
            "      Swap p[x] and p[y].\n",
            "      Reverse P[x+1 .. n].\n",
            "      Loop untill break statement reaches.\n",
            "      If no such x exists, the permutation is the last permutation ---> break statement\n",
            "      \n"
          ]
        }
      ]
    },
    {
      "cell_type": "code",
      "source": [
        "my_permutation.get_lexicographic_ordering(my_permutation.items)"
      ],
      "metadata": {
        "colab": {
          "base_uri": "https://localhost:8080/"
        },
        "id": "ntzeU9Sm6wK_",
        "outputId": "ff190ddd-a866-4f6d-f8fc-64ff79b444af"
      },
      "execution_count": 163,
      "outputs": [
        {
          "output_type": "execute_result",
          "data": {
            "text/plain": [
              "[['1', '2', '3'],\n",
              " ['1', '3', '2'],\n",
              " ['2', '1', '3'],\n",
              " ['2', '3', '1'],\n",
              " ['3', '1', '2'],\n",
              " ['3', '2', '1']]"
            ]
          },
          "metadata": {},
          "execution_count": 163
        }
      ]
    },
    {
      "cell_type": "code",
      "source": [
        "my_permutation.get_itertools_ordering(my_permutation.items)"
      ],
      "metadata": {
        "id": "bh4230rN19gS",
        "colab": {
          "base_uri": "https://localhost:8080/"
        },
        "outputId": "0dbdafe1-86f7-4026-9b48-19a4c64b026c"
      },
      "execution_count": 164,
      "outputs": [
        {
          "output_type": "execute_result",
          "data": {
            "text/plain": [
              "[['3', '2', '1'],\n",
              " ['3', '1', '2'],\n",
              " ['2', '3', '1'],\n",
              " ['2', '1', '3'],\n",
              " ['1', '3', '2'],\n",
              " ['1', '2', '3']]"
            ]
          },
          "metadata": {},
          "execution_count": 164
        }
      ]
    },
    {
      "cell_type": "code",
      "source": [
        "print(my_permutation.help_bactracking)"
      ],
      "metadata": {
        "colab": {
          "base_uri": "https://localhost:8080/"
        },
        "id": "YxPusHhLAENU",
        "outputId": "7d001ef3-385b-4aab-c1a9-00cc321c767f"
      },
      "execution_count": 165,
      "outputs": [
        {
          "output_type": "stream",
          "name": "stdout",
          "text": [
            "\n",
            "    Another way of doing the permutation of string with minimal code based on bactracking.\n",
            "    I basically create a loop and then I keep swapping two characters at a time, Inside the loop I'll have the recursion.\n",
            "    Notice,I only print when indexers reaches the length of our string.\n",
            "    \n"
          ]
        }
      ]
    },
    {
      "cell_type": "code",
      "source": [
        "my_permutation.get_bactracking_permutations(my_permutation.items, 0, len(my_permutation.items))"
      ],
      "metadata": {
        "id": "atjuMwip07It",
        "colab": {
          "base_uri": "https://localhost:8080/"
        },
        "outputId": "af9c22c7-c829-4322-9131-6838f088912b"
      },
      "execution_count": 166,
      "outputs": [
        {
          "output_type": "execute_result",
          "data": {
            "text/plain": [
              "[['3', '2', '1'],\n",
              " ['3', '1', '2'],\n",
              " ['2', '3', '1'],\n",
              " ['2', '1', '3'],\n",
              " ['1', '2', '3'],\n",
              " ['1', '3', '2']]"
            ]
          },
          "metadata": {},
          "execution_count": 166
        }
      ]
    },
    {
      "cell_type": "code",
      "source": [
        "[list(item) for item in my_permutation.get_simple_permutations1(''.join([str(item) for item in my_permutation.items]))]"
      ],
      "metadata": {
        "colab": {
          "base_uri": "https://localhost:8080/"
        },
        "id": "CIjRDmOh9C3d",
        "outputId": "0b8ad8f7-a83a-49f1-fec0-98463f759a80"
      },
      "execution_count": 167,
      "outputs": [
        {
          "output_type": "execute_result",
          "data": {
            "text/plain": [
              "[['3', '2', '1'],\n",
              " ['3', '1', '2'],\n",
              " ['2', '3', '1'],\n",
              " ['2', '1', '3'],\n",
              " ['1', '3', '2'],\n",
              " ['1', '2', '3']]"
            ]
          },
          "metadata": {},
          "execution_count": 167
        }
      ]
    },
    {
      "cell_type": "code",
      "source": [
        "[list(item) for item in list(my_permutation.get_simple_permutations2(''.join(my_permutation.items)))]"
      ],
      "metadata": {
        "colab": {
          "base_uri": "https://localhost:8080/"
        },
        "id": "ePq7fc6wdNCJ",
        "outputId": "f08954fb-3744-49a6-83ac-6f2b2a1c2528"
      },
      "execution_count": 168,
      "outputs": [
        {
          "output_type": "execute_result",
          "data": {
            "text/plain": [
              "[['2', '3', '1'],\n",
              " ['1', '3', '2'],\n",
              " ['2', '1', '3'],\n",
              " ['3', '1', '2'],\n",
              " ['3', '2', '1'],\n",
              " ['1', '2', '3']]"
            ]
          },
          "metadata": {},
          "execution_count": 168
        }
      ]
    },
    {
      "cell_type": "code",
      "source": [
        "[list(item) for item in list(my_permutation.get_simple_permutations3(''.join(my_permutation.items)))]"
      ],
      "metadata": {
        "colab": {
          "base_uri": "https://localhost:8080/"
        },
        "id": "QE48b1skjyE1",
        "outputId": "ab300abb-3808-4633-b57d-6dc6daaf64d0"
      },
      "execution_count": 169,
      "outputs": [
        {
          "output_type": "execute_result",
          "data": {
            "text/plain": [
              "[['3', '2', '1'],\n",
              " ['3', '1', '2'],\n",
              " ['2', '3', '1'],\n",
              " ['2', '1', '3'],\n",
              " ['1', '3', '2'],\n",
              " ['1', '2', '3']]"
            ]
          },
          "metadata": {},
          "execution_count": 169
        }
      ]
    },
    {
      "cell_type": "code",
      "source": [],
      "metadata": {
        "id": "ce68Smwnko7Q"
      },
      "execution_count": 169,
      "outputs": []
    }
  ],
  "metadata": {
    "interpreter": {
      "hash": "b3ba2566441a7c06988d0923437866b63cedc61552a5af99d1f4fb67d367b25f"
    },
    "kernelspec": {
      "display_name": "Python 3",
      "language": "python",
      "name": "python3"
    },
    "language_info": {
      "codemirror_mode": {
        "name": "ipython",
        "version": 3
      },
      "file_extension": ".py",
      "mimetype": "text/x-python",
      "name": "python",
      "nbconvert_exporter": "python",
      "pygments_lexer": "ipython3",
      "version": "3.7.6"
    },
    "colab": {
      "provenance": []
    }
  },
  "nbformat": 4,
  "nbformat_minor": 0
}